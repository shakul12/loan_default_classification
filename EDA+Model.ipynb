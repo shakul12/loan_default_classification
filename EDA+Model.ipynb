{
 "cells": [
  {
   "cell_type": "markdown",
   "metadata": {},
   "source": [
    "# Load Dataset"
   ]
  },
  {
   "cell_type": "code",
   "execution_count": 1,
   "metadata": {},
   "outputs": [],
   "source": [
    "import pandas as pd\n",
    "import numpy as np\n",
    "loan= pd.read_csv(\"loan/loan_table.csv\")\n",
    "borrower= pd.read_csv(\"loan/borrower_table.csv\")"
   ]
  },
  {
   "cell_type": "code",
   "execution_count": 2,
   "metadata": {},
   "outputs": [
    {
     "name": "stdout",
     "output_type": "stream",
     "text": [
      "Loan data has 101100 rows and 5 columns\n"
     ]
    },
    {
     "data": {
      "text/html": [
       "<div>\n",
       "<style scoped>\n",
       "    .dataframe tbody tr th:only-of-type {\n",
       "        vertical-align: middle;\n",
       "    }\n",
       "\n",
       "    .dataframe tbody tr th {\n",
       "        vertical-align: top;\n",
       "    }\n",
       "\n",
       "    .dataframe thead th {\n",
       "        text-align: right;\n",
       "    }\n",
       "</style>\n",
       "<table border=\"1\" class=\"dataframe\">\n",
       "  <thead>\n",
       "    <tr style=\"text-align: right;\">\n",
       "      <th></th>\n",
       "      <th>loan_id</th>\n",
       "      <th>loan_purpose</th>\n",
       "      <th>date</th>\n",
       "      <th>loan_granted</th>\n",
       "      <th>loan_repaid</th>\n",
       "    </tr>\n",
       "  </thead>\n",
       "  <tbody>\n",
       "    <tr>\n",
       "      <th>0</th>\n",
       "      <td>19454</td>\n",
       "      <td>investment</td>\n",
       "      <td>2012-03-15</td>\n",
       "      <td>0</td>\n",
       "      <td>NaN</td>\n",
       "    </tr>\n",
       "    <tr>\n",
       "      <th>1</th>\n",
       "      <td>496811</td>\n",
       "      <td>investment</td>\n",
       "      <td>2012-01-17</td>\n",
       "      <td>0</td>\n",
       "      <td>NaN</td>\n",
       "    </tr>\n",
       "    <tr>\n",
       "      <th>2</th>\n",
       "      <td>929493</td>\n",
       "      <td>other</td>\n",
       "      <td>2012-02-09</td>\n",
       "      <td>0</td>\n",
       "      <td>NaN</td>\n",
       "    </tr>\n",
       "    <tr>\n",
       "      <th>3</th>\n",
       "      <td>580653</td>\n",
       "      <td>other</td>\n",
       "      <td>2012-06-27</td>\n",
       "      <td>1</td>\n",
       "      <td>1.0</td>\n",
       "    </tr>\n",
       "    <tr>\n",
       "      <th>4</th>\n",
       "      <td>172419</td>\n",
       "      <td>business</td>\n",
       "      <td>2012-05-21</td>\n",
       "      <td>1</td>\n",
       "      <td>0.0</td>\n",
       "    </tr>\n",
       "  </tbody>\n",
       "</table>\n",
       "</div>"
      ],
      "text/plain": [
       "   loan_id loan_purpose        date  loan_granted  loan_repaid\n",
       "0    19454   investment  2012-03-15             0          NaN\n",
       "1   496811   investment  2012-01-17             0          NaN\n",
       "2   929493        other  2012-02-09             0          NaN\n",
       "3   580653        other  2012-06-27             1          1.0\n",
       "4   172419     business  2012-05-21             1          0.0"
      ]
     },
     "execution_count": 2,
     "metadata": {},
     "output_type": "execute_result"
    }
   ],
   "source": [
    "print(\"Loan data has {} rows and {} columns\".format(loan.shape[0],loan.shape[1]))\n",
    "loan.head()"
   ]
  },
  {
   "cell_type": "code",
   "execution_count": 3,
   "metadata": {},
   "outputs": [
    {
     "data": {
      "text/plain": [
       "101100"
      ]
     },
     "execution_count": 3,
     "metadata": {},
     "output_type": "execute_result"
    }
   ],
   "source": [
    "loan.loan_id.nunique()"
   ]
  },
  {
   "cell_type": "markdown",
   "metadata": {},
   "source": [
    "<b>All unique loan_id's meaning all 101100 are disctinct loans and doesn't require any kind of aggregation</b>"
   ]
  },
  {
   "cell_type": "code",
   "execution_count": 4,
   "metadata": {},
   "outputs": [
    {
     "name": "stdout",
     "output_type": "stream",
     "text": [
      "Borrower data has 101100 rows and 12 columns\n"
     ]
    },
    {
     "data": {
      "text/html": [
       "<div>\n",
       "<style scoped>\n",
       "    .dataframe tbody tr th:only-of-type {\n",
       "        vertical-align: middle;\n",
       "    }\n",
       "\n",
       "    .dataframe tbody tr th {\n",
       "        vertical-align: top;\n",
       "    }\n",
       "\n",
       "    .dataframe thead th {\n",
       "        text-align: right;\n",
       "    }\n",
       "</style>\n",
       "<table border=\"1\" class=\"dataframe\">\n",
       "  <thead>\n",
       "    <tr style=\"text-align: right;\">\n",
       "      <th></th>\n",
       "      <th>loan_id</th>\n",
       "      <th>is_first_loan</th>\n",
       "      <th>fully_repaid_previous_loans</th>\n",
       "      <th>currently_repaying_other_loans</th>\n",
       "      <th>total_credit_card_limit</th>\n",
       "      <th>avg_percentage_credit_card_limit_used_last_year</th>\n",
       "      <th>saving_amount</th>\n",
       "      <th>checking_amount</th>\n",
       "      <th>is_employed</th>\n",
       "      <th>yearly_salary</th>\n",
       "      <th>age</th>\n",
       "      <th>dependent_number</th>\n",
       "    </tr>\n",
       "  </thead>\n",
       "  <tbody>\n",
       "    <tr>\n",
       "      <th>0</th>\n",
       "      <td>289774</td>\n",
       "      <td>1</td>\n",
       "      <td>NaN</td>\n",
       "      <td>NaN</td>\n",
       "      <td>8000</td>\n",
       "      <td>0.49</td>\n",
       "      <td>3285</td>\n",
       "      <td>1073</td>\n",
       "      <td>0</td>\n",
       "      <td>0</td>\n",
       "      <td>47</td>\n",
       "      <td>3</td>\n",
       "    </tr>\n",
       "    <tr>\n",
       "      <th>1</th>\n",
       "      <td>482590</td>\n",
       "      <td>0</td>\n",
       "      <td>1.0</td>\n",
       "      <td>0.0</td>\n",
       "      <td>4500</td>\n",
       "      <td>1.03</td>\n",
       "      <td>636</td>\n",
       "      <td>5299</td>\n",
       "      <td>1</td>\n",
       "      <td>13500</td>\n",
       "      <td>33</td>\n",
       "      <td>1</td>\n",
       "    </tr>\n",
       "    <tr>\n",
       "      <th>2</th>\n",
       "      <td>135565</td>\n",
       "      <td>1</td>\n",
       "      <td>NaN</td>\n",
       "      <td>NaN</td>\n",
       "      <td>6900</td>\n",
       "      <td>0.82</td>\n",
       "      <td>2085</td>\n",
       "      <td>3422</td>\n",
       "      <td>1</td>\n",
       "      <td>24500</td>\n",
       "      <td>38</td>\n",
       "      <td>8</td>\n",
       "    </tr>\n",
       "    <tr>\n",
       "      <th>3</th>\n",
       "      <td>207797</td>\n",
       "      <td>0</td>\n",
       "      <td>1.0</td>\n",
       "      <td>0.0</td>\n",
       "      <td>1200</td>\n",
       "      <td>0.82</td>\n",
       "      <td>358</td>\n",
       "      <td>3388</td>\n",
       "      <td>0</td>\n",
       "      <td>0</td>\n",
       "      <td>24</td>\n",
       "      <td>1</td>\n",
       "    </tr>\n",
       "    <tr>\n",
       "      <th>4</th>\n",
       "      <td>828078</td>\n",
       "      <td>0</td>\n",
       "      <td>0.0</td>\n",
       "      <td>0.0</td>\n",
       "      <td>6900</td>\n",
       "      <td>0.80</td>\n",
       "      <td>2138</td>\n",
       "      <td>4282</td>\n",
       "      <td>1</td>\n",
       "      <td>18100</td>\n",
       "      <td>36</td>\n",
       "      <td>1</td>\n",
       "    </tr>\n",
       "  </tbody>\n",
       "</table>\n",
       "</div>"
      ],
      "text/plain": [
       "   loan_id  is_first_loan  fully_repaid_previous_loans  \\\n",
       "0   289774              1                          NaN   \n",
       "1   482590              0                          1.0   \n",
       "2   135565              1                          NaN   \n",
       "3   207797              0                          1.0   \n",
       "4   828078              0                          0.0   \n",
       "\n",
       "   currently_repaying_other_loans  total_credit_card_limit  \\\n",
       "0                             NaN                     8000   \n",
       "1                             0.0                     4500   \n",
       "2                             NaN                     6900   \n",
       "3                             0.0                     1200   \n",
       "4                             0.0                     6900   \n",
       "\n",
       "   avg_percentage_credit_card_limit_used_last_year  saving_amount  \\\n",
       "0                                             0.49           3285   \n",
       "1                                             1.03            636   \n",
       "2                                             0.82           2085   \n",
       "3                                             0.82            358   \n",
       "4                                             0.80           2138   \n",
       "\n",
       "   checking_amount  is_employed  yearly_salary  age  dependent_number  \n",
       "0             1073            0              0   47                 3  \n",
       "1             5299            1          13500   33                 1  \n",
       "2             3422            1          24500   38                 8  \n",
       "3             3388            0              0   24                 1  \n",
       "4             4282            1          18100   36                 1  "
      ]
     },
     "execution_count": 4,
     "metadata": {},
     "output_type": "execute_result"
    }
   ],
   "source": [
    "print(\"Borrower data has {} rows and {} columns\".format(borrower.shape[0],borrower.shape[1]))\n",
    "borrower.head()"
   ]
  },
  {
   "cell_type": "code",
   "execution_count": 5,
   "metadata": {},
   "outputs": [
    {
     "data": {
      "text/plain": [
       "101100"
      ]
     },
     "execution_count": 5,
     "metadata": {},
     "output_type": "execute_result"
    }
   ],
   "source": [
    "borrower.loan_id.nunique()"
   ]
  },
  {
   "cell_type": "markdown",
   "metadata": {},
   "source": [
    "<b>All unique loan_id's meaning all 101100 are disctinct loans and doesn't require any kind of aggregation</b>"
   ]
  },
  {
   "cell_type": "markdown",
   "metadata": {},
   "source": [
    "<b>Joining the loan and borrower dataset using common column `loan_id` </b>"
   ]
  },
  {
   "cell_type": "code",
   "execution_count": 6,
   "metadata": {},
   "outputs": [
    {
     "name": "stdout",
     "output_type": "stream",
     "text": [
      "Final data has 101100 rows and 16 columns\n"
     ]
    },
    {
     "data": {
      "text/html": [
       "<div>\n",
       "<style scoped>\n",
       "    .dataframe tbody tr th:only-of-type {\n",
       "        vertical-align: middle;\n",
       "    }\n",
       "\n",
       "    .dataframe tbody tr th {\n",
       "        vertical-align: top;\n",
       "    }\n",
       "\n",
       "    .dataframe thead th {\n",
       "        text-align: right;\n",
       "    }\n",
       "</style>\n",
       "<table border=\"1\" class=\"dataframe\">\n",
       "  <thead>\n",
       "    <tr style=\"text-align: right;\">\n",
       "      <th></th>\n",
       "      <th>loan_id</th>\n",
       "      <th>loan_purpose</th>\n",
       "      <th>date</th>\n",
       "      <th>loan_granted</th>\n",
       "      <th>loan_repaid</th>\n",
       "      <th>is_first_loan</th>\n",
       "      <th>fully_repaid_previous_loans</th>\n",
       "      <th>currently_repaying_other_loans</th>\n",
       "      <th>total_credit_card_limit</th>\n",
       "      <th>avg_percentage_credit_card_limit_used_last_year</th>\n",
       "      <th>saving_amount</th>\n",
       "      <th>checking_amount</th>\n",
       "      <th>is_employed</th>\n",
       "      <th>yearly_salary</th>\n",
       "      <th>age</th>\n",
       "      <th>dependent_number</th>\n",
       "    </tr>\n",
       "  </thead>\n",
       "  <tbody>\n",
       "    <tr>\n",
       "      <th>0</th>\n",
       "      <td>19454</td>\n",
       "      <td>investment</td>\n",
       "      <td>2012-03-15</td>\n",
       "      <td>0</td>\n",
       "      <td>NaN</td>\n",
       "      <td>1</td>\n",
       "      <td>NaN</td>\n",
       "      <td>NaN</td>\n",
       "      <td>8600</td>\n",
       "      <td>0.79</td>\n",
       "      <td>1491</td>\n",
       "      <td>6285</td>\n",
       "      <td>1</td>\n",
       "      <td>45200</td>\n",
       "      <td>42</td>\n",
       "      <td>7</td>\n",
       "    </tr>\n",
       "    <tr>\n",
       "      <th>1</th>\n",
       "      <td>496811</td>\n",
       "      <td>investment</td>\n",
       "      <td>2012-01-17</td>\n",
       "      <td>0</td>\n",
       "      <td>NaN</td>\n",
       "      <td>1</td>\n",
       "      <td>NaN</td>\n",
       "      <td>NaN</td>\n",
       "      <td>5300</td>\n",
       "      <td>0.52</td>\n",
       "      <td>141</td>\n",
       "      <td>5793</td>\n",
       "      <td>0</td>\n",
       "      <td>0</td>\n",
       "      <td>42</td>\n",
       "      <td>5</td>\n",
       "    </tr>\n",
       "    <tr>\n",
       "      <th>2</th>\n",
       "      <td>929493</td>\n",
       "      <td>other</td>\n",
       "      <td>2012-02-09</td>\n",
       "      <td>0</td>\n",
       "      <td>NaN</td>\n",
       "      <td>1</td>\n",
       "      <td>NaN</td>\n",
       "      <td>NaN</td>\n",
       "      <td>0</td>\n",
       "      <td>NaN</td>\n",
       "      <td>660</td>\n",
       "      <td>3232</td>\n",
       "      <td>1</td>\n",
       "      <td>26500</td>\n",
       "      <td>60</td>\n",
       "      <td>4</td>\n",
       "    </tr>\n",
       "    <tr>\n",
       "      <th>3</th>\n",
       "      <td>580653</td>\n",
       "      <td>other</td>\n",
       "      <td>2012-06-27</td>\n",
       "      <td>1</td>\n",
       "      <td>1.0</td>\n",
       "      <td>0</td>\n",
       "      <td>1.0</td>\n",
       "      <td>0.0</td>\n",
       "      <td>5400</td>\n",
       "      <td>0.52</td>\n",
       "      <td>3345</td>\n",
       "      <td>2764</td>\n",
       "      <td>1</td>\n",
       "      <td>15800</td>\n",
       "      <td>58</td>\n",
       "      <td>4</td>\n",
       "    </tr>\n",
       "    <tr>\n",
       "      <th>4</th>\n",
       "      <td>172419</td>\n",
       "      <td>business</td>\n",
       "      <td>2012-05-21</td>\n",
       "      <td>1</td>\n",
       "      <td>0.0</td>\n",
       "      <td>1</td>\n",
       "      <td>NaN</td>\n",
       "      <td>NaN</td>\n",
       "      <td>2900</td>\n",
       "      <td>0.76</td>\n",
       "      <td>1050</td>\n",
       "      <td>3695</td>\n",
       "      <td>1</td>\n",
       "      <td>34800</td>\n",
       "      <td>31</td>\n",
       "      <td>4</td>\n",
       "    </tr>\n",
       "  </tbody>\n",
       "</table>\n",
       "</div>"
      ],
      "text/plain": [
       "   loan_id loan_purpose        date  loan_granted  loan_repaid  is_first_loan  \\\n",
       "0    19454   investment  2012-03-15             0          NaN              1   \n",
       "1   496811   investment  2012-01-17             0          NaN              1   \n",
       "2   929493        other  2012-02-09             0          NaN              1   \n",
       "3   580653        other  2012-06-27             1          1.0              0   \n",
       "4   172419     business  2012-05-21             1          0.0              1   \n",
       "\n",
       "   fully_repaid_previous_loans  currently_repaying_other_loans  \\\n",
       "0                          NaN                             NaN   \n",
       "1                          NaN                             NaN   \n",
       "2                          NaN                             NaN   \n",
       "3                          1.0                             0.0   \n",
       "4                          NaN                             NaN   \n",
       "\n",
       "   total_credit_card_limit  avg_percentage_credit_card_limit_used_last_year  \\\n",
       "0                     8600                                             0.79   \n",
       "1                     5300                                             0.52   \n",
       "2                        0                                              NaN   \n",
       "3                     5400                                             0.52   \n",
       "4                     2900                                             0.76   \n",
       "\n",
       "   saving_amount  checking_amount  is_employed  yearly_salary  age  \\\n",
       "0           1491             6285            1          45200   42   \n",
       "1            141             5793            0              0   42   \n",
       "2            660             3232            1          26500   60   \n",
       "3           3345             2764            1          15800   58   \n",
       "4           1050             3695            1          34800   31   \n",
       "\n",
       "   dependent_number  \n",
       "0                 7  \n",
       "1                 5  \n",
       "2                 4  \n",
       "3                 4  \n",
       "4                 4  "
      ]
     },
     "execution_count": 6,
     "metadata": {},
     "output_type": "execute_result"
    }
   ],
   "source": [
    "final=pd.merge(loan, borrower, on=\"loan_id\")\n",
    "print(\"Final data has {} rows and {} columns\".format(final.shape[0],final.shape[1]))\n",
    "final.head()"
   ]
  },
  {
   "cell_type": "markdown",
   "metadata": {},
   "source": [
    "<b> Final dataset also has the same number of rows </b>"
   ]
  },
  {
   "cell_type": "markdown",
   "metadata": {},
   "source": [
    "# Bank Model Profitability"
   ]
  },
  {
   "cell_type": "code",
   "execution_count": 7,
   "metadata": {},
   "outputs": [],
   "source": [
    "import seaborn as sns\n",
    "import matplotlib.pyplot as plt\n",
    "%matplotlib inline"
   ]
  },
  {
   "cell_type": "code",
   "execution_count": 8,
   "metadata": {},
   "outputs": [
    {
     "data": {
      "image/png": "[encoded data removed]",
      "text/plain": [
       "<Figure size 432x288 with 1 Axes>"
      ]
     },
     "metadata": {
      "needs_background": "light"
     },
     "output_type": "display_data"
    }
   ],
   "source": [
    "ax = sns.countplot(y=\"loan_granted\", data=final)\n",
    "plt.title('Distribution of  Loan Grants by Bank')\n",
    "plt.xlabel('Number of.')\n",
    "\n",
    "total = len(final)\n",
    "for p in ax.patches:\n",
    "        percentage = '{:.1f}%'.format(100 * p.get_width()/total)\n",
    "        x = p.get_x() + p.get_width() + 0.02\n",
    "        y = p.get_y() + p.get_height()/2\n",
    "        ax.annotate(percentage, (x, y))\n",
    "\n",
    "plt.show()"
   ]
  },
  {
   "cell_type": "markdown",
   "metadata": {},
   "source": [
    "<b> Bank has granted loans to 47.1% of the total applicants</b>"
   ]
  },
  {
   "cell_type": "code",
   "execution_count": 9,
   "metadata": {},
   "outputs": [
    {
     "data": {
      "image/png": "[encoded data removed]",
      "text/plain": [
       "<Figure size 432x288 with 1 Axes>"
      ]
     },
     "metadata": {
      "needs_background": "light"
     },
     "output_type": "display_data"
    }
   ],
   "source": [
    "ax = sns.countplot(y=\"loan_repaid\", data=final)\n",
    "plt.title('Distribution of Loan Defaulters')\n",
    "plt.xlabel('Number of.')\n",
    "\n",
    "total = len(final[final.loan_granted==1])\n",
    "for p in ax.patches:\n",
    "        percentage = '{:.1f}%'.format(100 * p.get_width()/total)\n",
    "        x = p.get_x() + p.get_width() + 0.02\n",
    "        y = p.get_y() + p.get_height()/2\n",
    "        ax.annotate(percentage, (x, y))\n",
    "\n",
    "plt.show()"
   ]
  },
  {
   "cell_type": "markdown",
   "metadata": {},
   "source": [
    "<b> Out of the applicants who wre granted loan, 35.6% defaulted the loan </b>"
   ]
  },
  {
   "cell_type": "markdown",
   "metadata": {},
   "source": [
    "<b> Bank model accuracy= 64.4% </b>"
   ]
  },
  {
   "cell_type": "code",
   "execution_count": 10,
   "metadata": {},
   "outputs": [],
   "source": [
    "def sums(a,b):\n",
    "    if a==0:\n",
    "        return 0\n",
    "    else:\n",
    "        if b==0:\n",
    "            return -1\n",
    "        else:\n",
    "            return 1"
   ]
  },
  {
   "cell_type": "code",
   "execution_count": 11,
   "metadata": {},
   "outputs": [
    {
     "data": {
      "text/plain": [
       " 0    53446\n",
       " 1    30706\n",
       "-1    16948\n",
       "Name: sum, dtype: int64"
      ]
     },
     "execution_count": 11,
     "metadata": {},
     "output_type": "execute_result"
    }
   ],
   "source": [
    "loan['sum'] = loan.apply(lambda x: sums(x.loan_granted, x.loan_repaid), axis=1)\n",
    "loan['sum'].value_counts()\n"
   ]
  },
  {
   "cell_type": "code",
   "execution_count": 12,
   "metadata": {},
   "outputs": [
    {
     "data": {
      "text/plain": [
       "13758"
      ]
     },
     "execution_count": 12,
     "metadata": {},
     "output_type": "execute_result"
    }
   ],
   "source": [
    "sum(loan['sum'])"
   ]
  },
  {
   "cell_type": "markdown",
   "metadata": {},
   "source": [
    "<b> Bank made a profit of 13,758 out of a total earning potential of 1,01,100 (if no defaulters applied) </b>"
   ]
  },
  {
   "cell_type": "code",
   "execution_count": null,
   "metadata": {},
   "outputs": [],
   "source": []
  },
  {
   "cell_type": "markdown",
   "metadata": {},
   "source": [
    "# Refined Model"
   ]
  },
  {
   "cell_type": "code",
   "execution_count": 13,
   "metadata": {},
   "outputs": [
    {
     "data": {
      "text/plain": [
       "loan_id                                              int64\n",
       "loan_purpose                                        object\n",
       "date                                                object\n",
       "loan_granted                                         int64\n",
       "loan_repaid                                        float64\n",
       "is_first_loan                                        int64\n",
       "fully_repaid_previous_loans                        float64\n",
       "currently_repaying_other_loans                     float64\n",
       "total_credit_card_limit                              int64\n",
       "avg_percentage_credit_card_limit_used_last_year    float64\n",
       "saving_amount                                        int64\n",
       "checking_amount                                      int64\n",
       "is_employed                                          int64\n",
       "yearly_salary                                        int64\n",
       "age                                                  int64\n",
       "dependent_number                                     int64\n",
       "dtype: object"
      ]
     },
     "execution_count": 13,
     "metadata": {},
     "output_type": "execute_result"
    }
   ],
   "source": [
    "final.dtypes"
   ]
  },
  {
   "cell_type": "markdown",
   "metadata": {},
   "source": [
    "<b> Converting object type columns to numeric </b>"
   ]
  },
  {
   "cell_type": "code",
   "execution_count": 14,
   "metadata": {},
   "outputs": [],
   "source": [
    "final['loan_purpose']= final['loan_purpose'].astype('category')\n",
    "final['purpose'] = final['loan_purpose'].cat.codes\n",
    "final['day']= final.apply(lambda x: int(x.date.split('-')[-1]), axis=1)\n",
    "final['month']= final.apply(lambda x: int(x.date.split('-')[1]), axis=1)\n",
    "final['year']= final.apply(lambda x: int(x.date.split('-')[0]), axis=1)"
   ]
  },
  {
   "cell_type": "code",
   "execution_count": 15,
   "metadata": {},
   "outputs": [
    {
     "data": {
      "text/plain": [
       "1"
      ]
     },
     "execution_count": 15,
     "metadata": {},
     "output_type": "execute_result"
    }
   ],
   "source": [
    "final['year'].nunique()"
   ]
  },
  {
   "cell_type": "markdown",
   "metadata": {},
   "source": [
    "<b> Dropping year column as it is common for all data points </b>"
   ]
  },
  {
   "cell_type": "code",
   "execution_count": 16,
   "metadata": {},
   "outputs": [],
   "source": [
    "final.drop(columns=['year'], inplace=True)"
   ]
  },
  {
   "cell_type": "markdown",
   "metadata": {},
   "source": [
    "<b> Pearson Correlation </b>"
   ]
  },
  {
   "cell_type": "code",
   "execution_count": 17,
   "metadata": {},
   "outputs": [
    {
     "data": {
      "text/plain": [
       "<matplotlib.axes._subplots.AxesSubplot at 0xd71a30>"
      ]
     },
     "execution_count": 17,
     "metadata": {},
     "output_type": "execute_result"
    },
    {
     "data": {
      "image/png": "[encoded data removed]",
      "text/plain": [
       "<Figure size 720x720 with 2 Axes>"
      ]
     },
     "metadata": {
      "needs_background": "light"
     },
     "output_type": "display_data"
    }
   ],
   "source": [
    "fig, ax = plt.subplots(figsize=(10,10)) \n",
    "pearsoncorr = final.corr(method='pearson')\n",
    "sns.heatmap(pearsoncorr, \n",
    "        xticklabels=pearsoncorr.columns,\n",
    "        yticklabels=pearsoncorr.columns)"
   ]
  },
  {
   "cell_type": "markdown",
   "metadata": {},
   "source": [
    "<b> Dealing with Null Data Points </b>"
   ]
  },
  {
   "cell_type": "code",
   "execution_count": 18,
   "metadata": {},
   "outputs": [
    {
     "data": {
      "text/plain": [
       "loan_id                                                0\n",
       "loan_purpose                                           0\n",
       "date                                                   0\n",
       "loan_granted                                           0\n",
       "loan_repaid                                        53446\n",
       "is_first_loan                                          0\n",
       "fully_repaid_previous_loans                        54947\n",
       "currently_repaying_other_loans                     54947\n",
       "total_credit_card_limit                                0\n",
       "avg_percentage_credit_card_limit_used_last_year     6972\n",
       "saving_amount                                          0\n",
       "checking_amount                                        0\n",
       "is_employed                                            0\n",
       "yearly_salary                                          0\n",
       "age                                                    0\n",
       "dependent_number                                       0\n",
       "purpose                                                0\n",
       "day                                                    0\n",
       "month                                                  0\n",
       "dtype: int64"
      ]
     },
     "execution_count": 18,
     "metadata": {},
     "output_type": "execute_result"
    }
   ],
   "source": [
    "final.isna().sum()"
   ]
  },
  {
   "cell_type": "code",
   "execution_count": 19,
   "metadata": {},
   "outputs": [],
   "source": [
    "final['currently_repaying_other_loans'].fillna(value=0, inplace=True)\n",
    "final['fully_repaid_previous_loans'].fillna(value=1.0, inplace=True)"
   ]
  },
  {
   "cell_type": "markdown",
   "metadata": {},
   "source": [
    "## Baseline Model: Logistic Regression"
   ]
  },
  {
   "cell_type": "markdown",
   "metadata": {},
   "source": [
    "<b> We will only train/test on data points who were `granted loans` by the bank. As only those have `loan_repaid` column. This is the Supervised Approach for solving the classification problem </b> "
   ]
  },
  {
   "cell_type": "code",
   "execution_count": 20,
   "metadata": {},
   "outputs": [
    {
     "data": {
      "text/plain": [
       "loan_id                                            0\n",
       "loan_purpose                                       0\n",
       "date                                               0\n",
       "loan_granted                                       0\n",
       "loan_repaid                                        0\n",
       "is_first_loan                                      0\n",
       "fully_repaid_previous_loans                        0\n",
       "currently_repaying_other_loans                     0\n",
       "total_credit_card_limit                            0\n",
       "avg_percentage_credit_card_limit_used_last_year    0\n",
       "saving_amount                                      0\n",
       "checking_amount                                    0\n",
       "is_employed                                        0\n",
       "yearly_salary                                      0\n",
       "age                                                0\n",
       "dependent_number                                   0\n",
       "purpose                                            0\n",
       "day                                                0\n",
       "month                                              0\n",
       "dtype: int64"
      ]
     },
     "execution_count": 20,
     "metadata": {},
     "output_type": "execute_result"
    }
   ],
   "source": [
    "granted_with_no_na= final[final.loan_granted==1].dropna()\n",
    "granted_with_no_na.isna().sum()"
   ]
  },
  {
   "cell_type": "markdown",
   "metadata": {},
   "source": [
    "<b> Using Train-Test Split from the dataset. To train the model on training set and measure accuracy of the model on the test set. The split is 30% and uses stratification so that the test and train set has same proportions of classes (defaulters and non defaulters) </b>"
   ]
  },
  {
   "cell_type": "markdown",
   "metadata": {},
   "source": [
    "<b> Also using One-Hot-Encoding to deal with categorical variables and Min-Max Scaling to deal with continous variables. These are used to give better convergence of the features and helps in improving feature importance. </b>"
   ]
  },
  {
   "cell_type": "code",
   "execution_count": 21,
   "metadata": {},
   "outputs": [],
   "source": [
    "\n",
    "features= ['is_first_loan','fully_repaid_previous_loans','currently_repaying_other_loans','purpose','is_employed','total_credit_card_limit','avg_percentage_credit_card_limit_used_last_year','saving_amount','checking_amount','yearly_salary','age','dependent_number']\n",
    "X= granted_with_no_na[features]\n",
    "y= granted_with_no_na[['loan_repaid']]\n",
    "\n",
    "\n",
    "from sklearn.model_selection import train_test_split\n",
    "from sklearn.compose import ColumnTransformer\n",
    "from sklearn.preprocessing import OneHotEncoder, MinMaxScaler\n",
    "\n",
    "num_cols = features[5:]\n",
    "cat_cols = features[:5]\n",
    "\n",
    "# Build the column transformer and transform the dataframe\n",
    "col_trans = ColumnTransformer([\n",
    "    ('num', MinMaxScaler(), num_cols),\n",
    "    ('cat', OneHotEncoder(drop='if_binary'), cat_cols)\n",
    "])\n",
    "granted_transformed = col_trans.fit_transform(granted_with_no_na)\n",
    "\n",
    "X= granted_transformed\n",
    "X_train, X_test, y_train, y_test = train_test_split(X, y, test_size=0.3, \n",
    "                                            stratify=y, random_state=10)"
   ]
  },
  {
   "cell_type": "code",
   "execution_count": 22,
   "metadata": {},
   "outputs": [],
   "source": [
    "from sklearn.linear_model import LogisticRegression\n",
    "lr = LogisticRegression(random_state=10).fit(X_train, y_train.values.ravel())\n",
    "\n",
    "y_pred=lr.predict(X_test)"
   ]
  },
  {
   "cell_type": "code",
   "execution_count": 23,
   "metadata": {},
   "outputs": [
    {
     "name": "stdout",
     "output_type": "stream",
     "text": [
      "0.9257861635220126\n",
      "0.9032511050905462\n",
      "0.8942808550143525\n"
     ]
    }
   ],
   "source": [
    "from sklearn.metrics import f1_score, accuracy_score, roc_auc_score\n",
    "print(f1_score(y_test, y_pred))\n",
    "print(accuracy_score(y_test,y_pred))\n",
    "print(roc_auc_score(y_test,y_pred))"
   ]
  },
  {
   "cell_type": "markdown",
   "metadata": {},
   "source": [
    "<b> For performance metrics, Used F1_Score and ROC AUC Score alongwith Accuracy as these are more important when dealing with classification of imbalanced classes </b>\n",
    "\n",
    "<b> The ROC Accuracy is around 89% which is better than the bank model but can be improved further</b>\n",
    "\n",
    "<b> CONFUSION MATRIX </b>"
   ]
  },
  {
   "cell_type": "code",
   "execution_count": 24,
   "metadata": {},
   "outputs": [
    {
     "name": "stdout",
     "output_type": "stream",
     "text": [
      "[[4205  656]\n",
      " [ 701 8464]]\n"
     ]
    },
    {
     "data": {
      "image/png": "[encoded data removed]",
      "text/plain": [
       "<Figure size 432x288 with 2 Axes>"
      ]
     },
     "metadata": {
      "needs_background": "light"
     },
     "output_type": "display_data"
    },
    {
     "data": {
      "text/plain": [
       "<Figure size 720x432 with 0 Axes>"
      ]
     },
     "metadata": {},
     "output_type": "display_data"
    }
   ],
   "source": [
    "from sklearn.metrics import confusion_matrix\n",
    "ax= plt.subplot()\n",
    "cm= confusion_matrix(y_test, y_pred)\n",
    "print(cm)\n",
    "sns.heatmap(cm, annot= True, ax= ax);\n",
    "\n",
    "plt.figure(figsize=(10,6))\n",
    "ax.set_xlabel(\"predicted\"); ax.set_ylabel(\"actual\");\n",
    "ax.set_title(\"Random Forest Confusion Matrix\");"
   ]
  },
  {
   "cell_type": "markdown",
   "metadata": {},
   "source": [
    "<b> This is an important metrics to understand how model is performing on both the classes. The most important parameter for us is top right value which `656`. This is the number of applicants who our model classified as Non Defaulters but actually Defaulted the loan. In the following model we will work on decreasing this number and in-turn increasing accuracy. </b>"
   ]
  },
  {
   "cell_type": "markdown",
   "metadata": {},
   "source": [
    "<b> Understanding Feature Importance </b>"
   ]
  },
  {
   "cell_type": "code",
   "execution_count": 25,
   "metadata": {},
   "outputs": [
    {
     "name": "stdout",
     "output_type": "stream",
     "text": [
      "total_credit_card_limit ---------------------------> Score: 6.57177\n",
      "avg_percentage_credit_card_limit_used_last_year ---> Score: -2.67786\n",
      "saving_amount -------------------------------------> Score: 14.72743\n",
      "checking_amount -----------------------------------> Score: 10.79222\n",
      "yearly_salary -------------------------------------> Score: 6.37882\n",
      "age -----------------------------------------------> Score: -0.10367\n",
      "dependent_number ----------------------------------> Score: -0.81821\n",
      "is_first_loan -------------------------------------> Score: -0.72283\n",
      "fully_repaid_previous_loans -----------------------> Score: 0.22726\n",
      "currently_repaying_other_loans --------------------> Score: -2.13263\n",
      "purpose_business ----------------------------------> Score: 0.43486\n",
      "purpose_emergency ---------------------------------> Score: -0.55732\n",
      "purpose_home --------------------------------------> Score: 0.14686\n",
      "purpose_invest ------------------------------------> Score: 0.29050\n",
      "purpose_others ------------------------------------> Score: -0.32681\n",
      "is_employed ---------------------------------------> Score: 0.15284\n"
     ]
    },
    {
     "data": {
      "image/png": "[encoded data removed]",
      "text/plain": [
       "<Figure size 432x288 with 1 Axes>"
      ]
     },
     "metadata": {
      "needs_background": "light"
     },
     "output_type": "display_data"
    }
   ],
   "source": [
    "importance = lr.coef_[0]\n",
    "features=['total_credit_card_limit','avg_percentage_credit_card_limit_used_last_year','saving_amount','checking_amount','yearly_salary','age','dependent_number','is_first_loan','fully_repaid_previous_loans','currently_repaying_other_loans','purpose_business','purpose_emergency','purpose_home','purpose_invest','purpose_others','is_employed']\n",
    "# summarize feature importance\n",
    "for i,v in enumerate(importance):\n",
    "    print('%0s %s Score: %.5f' % (features[i],'-'*(50-len(features[i]))+'>',v))\n",
    "# plot feature importance\n",
    "plt.bar([x for x in range(len(importance))], importance)\n",
    "plt.show()"
   ]
  },
  {
   "cell_type": "markdown",
   "metadata": {},
   "source": [
    "<b> As expected from Correaltion plot features like `saving amt`,`checking amt`, `yearly salary` and `credit card limit` have high importance but we also see two other kinds of features. One, are the ones with decent importance and can be further imroved like `avg. credit limit used` and `currently repaying loans`  </b>"
   ]
  },
  {
   "cell_type": "markdown",
   "metadata": {},
   "source": [
    "## Feature Engineering"
   ]
  },
  {
   "cell_type": "markdown",
   "metadata": {},
   "source": [
    "<b> Missing Data points in avg credit limit used were earlier dropped but this seem to have cause an impact on the feature importance. Lets take a deeper look in the features and engineer alternate ways </b>"
   ]
  },
  {
   "cell_type": "code",
   "execution_count": 26,
   "metadata": {},
   "outputs": [
    {
     "data": {
      "image/png": "[encoded data removed]",
      "text/plain": [
       "<Figure size 432x288 with 1 Axes>"
      ]
     },
     "metadata": {
      "needs_background": "light"
     },
     "output_type": "display_data"
    }
   ],
   "source": [
    "sns.countplot(y= \"loan_repaid\", data= final.loc[final['avg_percentage_credit_card_limit_used_last_year'].isna()==True])\n",
    "plt.show()"
   ]
  },
  {
   "cell_type": "markdown",
   "metadata": {},
   "source": [
    "<b> Voila! The ones who had avg. credit used as None are more prone to defaulting loans as compared to others </b>\n",
    "\n",
    "<b> Creating another feature as `cred` which is a categorical variable with value 0 for those who don't have credit cards </b>"
   ]
  },
  {
   "cell_type": "code",
   "execution_count": 27,
   "metadata": {},
   "outputs": [],
   "source": [
    "final['cred']=1\n",
    "final.loc[final['avg_percentage_credit_card_limit_used_last_year'].isna()==True,'cred']=0"
   ]
  },
  {
   "cell_type": "code",
   "execution_count": 28,
   "metadata": {},
   "outputs": [
    {
     "data": {
      "text/plain": [
       "<matplotlib.axes._subplots.AxesSubplot at 0x2f320eb0>"
      ]
     },
     "execution_count": 28,
     "metadata": {},
     "output_type": "execute_result"
    },
    {
     "data": {
      "image/png": "[encoded data removed]",
      "text/plain": [
       "<Figure size 432x288 with 1 Axes>"
      ]
     },
     "metadata": {
      "needs_background": "light"
     },
     "output_type": "display_data"
    }
   ],
   "source": [
    "sns.violinplot(x='loan_repaid', y='avg_percentage_credit_card_limit_used_last_year', data=final, palette = \"Set2\")"
   ]
  },
  {
   "cell_type": "markdown",
   "metadata": {},
   "source": [
    "<b> The general trend suggest that user with high usage of credit cards tend to default more. This is an important metric to be considered while replacing NaN values of this column. Cannot be replaced by 0 as it will add confusion to the model. Beacuse there is no other parameter that has a direct dependency on Avg. Use we are replacing this varibale with mean values.</b>"
   ]
  },
  {
   "cell_type": "code",
   "execution_count": 29,
   "metadata": {},
   "outputs": [],
   "source": [
    "## no good correlation of avg with any other param\n",
    "\n",
    "final['avg_percentage_credit_card_limit_used_last_year'].fillna(final['avg_percentage_credit_card_limit_used_last_year'].mean(),inplace=True)"
   ]
  },
  {
   "cell_type": "markdown",
   "metadata": {},
   "source": [
    "<b> Purpose is a feature which had low corelation in the Pearson Map but individual purpose classes had good importance in baseline model. Lets explore this feature </b>"
   ]
  },
  {
   "cell_type": "code",
   "execution_count": 30,
   "metadata": {},
   "outputs": [
    {
     "data": {
      "image/png": "[encoded data removed]",
      "text/plain": [
       "<Figure size 432x288 with 1 Axes>"
      ]
     },
     "metadata": {
      "needs_background": "light"
     },
     "output_type": "display_data"
    }
   ],
   "source": [
    "sns.countplot(y= \"loan_purpose\", hue= \"loan_repaid\", data= final)\n",
    "plt.show()"
   ]
  },
  {
   "cell_type": "markdown",
   "metadata": {},
   "source": [
    "<b> We find that people using loan for emergency purpose tend to default loan more than other puposes. </b>"
   ]
  },
  {
   "cell_type": "code",
   "execution_count": 31,
   "metadata": {},
   "outputs": [],
   "source": [
    "final['is_emergency']=0\n",
    "final.loc[final['loan_purpose']=='emergency_funds','is_emergency']=1"
   ]
  },
  {
   "cell_type": "markdown",
   "metadata": {},
   "source": [
    "<b> `IS_EMPLOYED` is a feature with less than avg. importance in baseline model but seem to corelated with target variable </b>"
   ]
  },
  {
   "cell_type": "code",
   "execution_count": 32,
   "metadata": {},
   "outputs": [
    {
     "data": {
      "text/plain": [
       "<matplotlib.axes._subplots.AxesSubplot at 0x2e444550>"
      ]
     },
     "execution_count": 32,
     "metadata": {},
     "output_type": "execute_result"
    },
    {
     "data": {
      "image/png": "[encoded data removed]",
      "text/plain": [
       "<Figure size 432x288 with 1 Axes>"
      ]
     },
     "metadata": {
      "needs_background": "light"
     },
     "output_type": "display_data"
    }
   ],
   "source": [
    "sns.violinplot(x='is_employed', y='loan_repaid', data=final, palette = \"Set2\")"
   ]
  },
  {
   "cell_type": "markdown",
   "metadata": {},
   "source": [
    "<b> The distribution plot clearly states that `is_employed` has considerable amount of impact on loan default class. </b>\n",
    "\n",
    "<b> Higher the dependent number greater the chances of deafaulting vice-versa </b>"
   ]
  },
  {
   "cell_type": "code",
   "execution_count": 33,
   "metadata": {},
   "outputs": [
    {
     "data": {
      "text/plain": [
       "<matplotlib.axes._subplots.AxesSubplot at 0x2e4ca1f0>"
      ]
     },
     "execution_count": 33,
     "metadata": {},
     "output_type": "execute_result"
    },
    {
     "data": {
      "image/png": "[encoded data removed]",
      "text/plain": [
       "<Figure size 432x288 with 1 Axes>"
      ]
     },
     "metadata": {
      "needs_background": "light"
     },
     "output_type": "display_data"
    }
   ],
   "source": [
    "sns.violinplot(x='loan_repaid', y='dependent_number', data=final, palette = \"Set2\")"
   ]
  },
  {
   "cell_type": "code",
   "execution_count": 34,
   "metadata": {},
   "outputs": [
    {
     "data": {
      "text/plain": [
       "<matplotlib.axes._subplots.AxesSubplot at 0x2e5201c0>"
      ]
     },
     "execution_count": 34,
     "metadata": {},
     "output_type": "execute_result"
    },
    {
     "data": {
      "image/png": "[encoded data removed]",
      "text/plain": [
       "<Figure size 432x288 with 1 Axes>"
      ]
     },
     "metadata": {
      "needs_background": "light"
     },
     "output_type": "display_data"
    }
   ],
   "source": [
    "sns.distplot(final[final['loan_repaid']==1]['total_credit_card_limit'], hist = False, kde = True,\n",
    "                 kde_kws = {'linewidth': 3})\n",
    "sns.distplot(final[final['loan_repaid']==0]['total_credit_card_limit'], hist = False, kde = True,\n",
    "                 kde_kws = {'linewidth': 3})"
   ]
  },
  {
   "cell_type": "markdown",
   "metadata": {},
   "source": [
    "<b> While `fully repaid loans` doesn't have any correlation with target but  has a good correlation with an important feature `yearly salary` and can be used in the final model. </b> "
   ]
  },
  {
   "cell_type": "code",
   "execution_count": 35,
   "metadata": {},
   "outputs": [
    {
     "data": {
      "text/plain": [
       "<seaborn.axisgrid.FacetGrid at 0x2e541bb0>"
      ]
     },
     "execution_count": 35,
     "metadata": {},
     "output_type": "execute_result"
    },
    {
     "data": {
      "image/png": "[encoded data removed]",
      "text/plain": [
       "<Figure size 426x360 with 1 Axes>"
      ]
     },
     "metadata": {
      "needs_background": "light"
     },
     "output_type": "display_data"
    }
   ],
   "source": [
    "sns.catplot(x=\"fully_repaid_previous_loans\", y=\"yearly_salary\",hue=\"loan_repaid\" ,data=final[final.loan_granted==1])"
   ]
  },
  {
   "cell_type": "markdown",
   "metadata": {},
   "source": [
    "<b> As seen above non-defualters tend to have repaid previous loans and have higher yearly salary </b>"
   ]
  },
  {
   "cell_type": "markdown",
   "metadata": {},
   "source": [
    "<b> Discarded features </b>"
   ]
  },
  {
   "cell_type": "code",
   "execution_count": 36,
   "metadata": {},
   "outputs": [
    {
     "data": {
      "text/plain": [
       "<matplotlib.axes._subplots.AxesSubplot at 0x2e900ac0>"
      ]
     },
     "execution_count": 36,
     "metadata": {},
     "output_type": "execute_result"
    },
    {
     "data": {
      "image/png": "[encoded data removed]",
      "text/plain": [
       "<Figure size 432x288 with 1 Axes>"
      ]
     },
     "metadata": {
      "needs_background": "light"
     },
     "output_type": "display_data"
    }
   ],
   "source": [
    "sns.distplot(final[final['loan_repaid']==1]['age'], hist = False, kde = True,\n",
    "                 kde_kws = {'linewidth': 3})\n",
    "sns.distplot(final[final['loan_repaid']==0]['age'], hist = False, kde = True,\n",
    "                 kde_kws = {'linewidth': 3})"
   ]
  },
  {
   "cell_type": "code",
   "execution_count": 37,
   "metadata": {},
   "outputs": [
    {
     "data": {
      "text/plain": [
       "<BarContainer object of 18 artists>"
      ]
     },
     "execution_count": 37,
     "metadata": {},
     "output_type": "execute_result"
    },
    {
     "data": {
      "image/png": "[encoded data removed]",
      "text/plain": [
       "<Figure size 432x288 with 1 Axes>"
      ]
     },
     "metadata": {
      "needs_background": "light"
     },
     "output_type": "display_data"
    }
   ],
   "source": [
    "agecorr=final.loc[:, final.columns != 'age'].corrwith(final['age'],method='pearson')\n",
    "plt.bar([x for x in range(len(agecorr))], agecorr)"
   ]
  },
  {
   "cell_type": "markdown",
   "metadata": {},
   "source": [
    "<b> The `age` distribution for both defaulter and non defaulters is almost same and also age doesn't seem to have any correlation with any other feature. </b>\n",
    "\n",
    "<b> Similar Results for `is_first_loan` </b>"
   ]
  },
  {
   "cell_type": "code",
   "execution_count": 38,
   "metadata": {},
   "outputs": [
    {
     "data": {
      "text/plain": [
       "loan_id                                            0.003189\n",
       "loan_granted                                      -0.004398\n",
       "loan_repaid                                        0.012824\n",
       "fully_repaid_previous_loans                        0.239524\n",
       "currently_repaying_other_loans                    -0.487355\n",
       "total_credit_card_limit                            0.000679\n",
       "avg_percentage_credit_card_limit_used_last_year   -0.000753\n",
       "saving_amount                                      0.005650\n",
       "checking_amount                                    0.005114\n",
       "is_employed                                       -0.000971\n",
       "yearly_salary                                     -0.001674\n",
       "age                                               -0.002353\n",
       "dependent_number                                   0.000887\n",
       "purpose                                           -0.000080\n",
       "day                                               -0.002776\n",
       "month                                              0.000045\n",
       "cred                                              -0.002882\n",
       "is_emergency                                      -0.005300\n",
       "dtype: float64"
      ]
     },
     "execution_count": 38,
     "metadata": {},
     "output_type": "execute_result"
    }
   ],
   "source": [
    "firstloancorr=final.loc[:, final.columns != 'is_first_loan'].corrwith(final['is_first_loan'],method='pearson')\n",
    "firstloancorr"
   ]
  },
  {
   "cell_type": "markdown",
   "metadata": {},
   "source": [
    "## Final Featureset and Baseline Retraining"
   ]
  },
  {
   "cell_type": "code",
   "execution_count": 39,
   "metadata": {},
   "outputs": [],
   "source": [
    "features= ['currently_repaying_other_loans',\n",
    "           'is_employed',\n",
    "           'is_emergency',\n",
    "           'fully_repaid_previous_loans',\n",
    "           'cred',\n",
    "           'avg_percentage_credit_card_limit_used_last_year',\n",
    "           'total_credit_card_limit',\n",
    "             'saving_amount',\n",
    "           'checking_amount',\n",
    "             'yearly_salary',\n",
    "           'age',\n",
    "           'dependent_number']"
   ]
  },
  {
   "cell_type": "code",
   "execution_count": 40,
   "metadata": {},
   "outputs": [],
   "source": [
    "granted= final[final['loan_granted']==1]\n",
    "not_granted= final[final['loan_granted']==0]\n",
    "\n",
    "\n",
    "# Define the numerical and categorical columns\n",
    "num_cols = features[4:]\n",
    "cat_cols = features[:4]\n",
    "\n",
    "# Build the column transformer and transform the dataframe\n",
    "col_trans = ColumnTransformer([\n",
    "    ('num', MinMaxScaler(), num_cols),\n",
    "    ('cat', OneHotEncoder(drop='if_binary'), cat_cols)\n",
    "])\n",
    "granted_transformed = col_trans.fit_transform(granted)\n",
    "\n",
    "X= granted_transformed\n",
    "y= granted[['loan_repaid']]\n",
    "\n",
    "# Stratified split of the train and test set with train-test ratio of 7:3\n",
    "X_train, X_test, y_train, y_test = train_test_split(X, y, test_size=0.3, \n",
    "                                            stratify=y, random_state=10)\n"
   ]
  },
  {
   "cell_type": "code",
   "execution_count": 41,
   "metadata": {},
   "outputs": [
    {
     "name": "stdout",
     "output_type": "stream",
     "text": [
      "0.9224058018430668\n",
      "0.9004686297824719\n",
      "0.8932934084950116\n"
     ]
    }
   ],
   "source": [
    "lr = LogisticRegression(random_state=10).fit(X_train, y_train.values.ravel())\n",
    "\n",
    "y_pred=lr.predict(X_test)\n",
    "\n",
    "\n",
    "from sklearn.metrics import f1_score, accuracy_score, roc_auc_score\n",
    "print(f1_score(y_test, y_pred))\n",
    "print(accuracy_score(y_test,y_pred))\n",
    "print(roc_auc_score(y_test,y_pred))\n"
   ]
  },
  {
   "cell_type": "markdown",
   "metadata": {},
   "source": [
    "<b> The Accuracy doesn't seem to change much for LR. Will try other models. </b>"
   ]
  },
  {
   "cell_type": "markdown",
   "metadata": {},
   "source": [
    "## Random Forest"
   ]
  },
  {
   "cell_type": "code",
   "execution_count": 42,
   "metadata": {},
   "outputs": [],
   "source": [
    "from sklearn.ensemble import RandomForestClassifier\n",
    "from sklearn.metrics import f1_score, accuracy_score, roc_auc_score\n",
    "from sklearn.model_selection import StratifiedKFold, cross_val_score\n",
    "\n",
    "# See the inital model performance\n",
    "clf = RandomForestClassifier(random_state=10,n_estimators= 100)\n",
    "\n",
    "clf.fit(X_train, y_train.values.ravel())\n",
    "y_pred=clf.predict(X_test)"
   ]
  },
  {
   "cell_type": "code",
   "execution_count": 43,
   "metadata": {},
   "outputs": [
    {
     "name": "stdout",
     "output_type": "stream",
     "text": [
      "0.9391780821917809\n",
      "0.9223613345457089\n",
      "0.9191364476500448\n"
     ]
    }
   ],
   "source": [
    "print(f1_score(y_test, y_pred))\n",
    "print(accuracy_score(y_test,y_pred))\n",
    "print(roc_auc_score(y_test,y_pred))"
   ]
  },
  {
   "cell_type": "code",
   "execution_count": 44,
   "metadata": {},
   "outputs": [
    {
     "name": "stdout",
     "output_type": "stream",
     "text": [
      "[[4617  468]\n",
      " [ 642 8570]]\n"
     ]
    },
    {
     "data": {
      "image/png": "[encoded data removed]",
      "text/plain": [
       "<Figure size 432x288 with 2 Axes>"
      ]
     },
     "metadata": {
      "needs_background": "light"
     },
     "output_type": "display_data"
    },
    {
     "data": {
      "text/plain": [
       "<Figure size 720x432 with 0 Axes>"
      ]
     },
     "metadata": {},
     "output_type": "display_data"
    }
   ],
   "source": [
    "ax= plt.subplot()\n",
    "cm= confusion_matrix(y_test, y_pred)\n",
    "print(cm)\n",
    "sns.heatmap(cm, annot= True, ax= ax);\n",
    "\n",
    "plt.figure(figsize=(10,6))\n",
    "ax.set_xlabel(\"predicted\"); ax.set_ylabel(\"actual\");\n",
    "ax.set_title(\"Random Forest Confusion Matrix\");"
   ]
  },
  {
   "cell_type": "markdown",
   "metadata": {},
   "source": [
    "## Gradient Boosting"
   ]
  },
  {
   "cell_type": "code",
   "execution_count": 45,
   "metadata": {},
   "outputs": [],
   "source": [
    "from sklearn.ensemble import  GradientBoostingClassifier"
   ]
  },
  {
   "cell_type": "code",
   "execution_count": 46,
   "metadata": {},
   "outputs": [
    {
     "name": "stdout",
     "output_type": "stream",
     "text": [
      "0.9402477798487009\n",
      "0.9237602294187591\n",
      "0.9144856469616603\n"
     ]
    }
   ],
   "source": [
    "gbr= GradientBoostingClassifier(learning_rate= 0.1, random_state= 0)\n",
    "gbr.fit(X_train, y_train.values.ravel())\n",
    "y_pred=gbr.predict(X_test)\n",
    "print(f1_score(y_pred, y_test))\n",
    "print(accuracy_score(y_pred,y_test))\n",
    "print(roc_auc_score(y_pred,y_test))"
   ]
  },
  {
   "cell_type": "code",
   "execution_count": 47,
   "metadata": {},
   "outputs": [
    {
     "name": "stdout",
     "output_type": "stream",
     "text": [
      "[[4631  454]\n",
      " [ 636 8576]]\n"
     ]
    },
    {
     "data": {
      "image/png": "[encoded data removed]",
      "text/plain": [
       "<Figure size 432x288 with 2 Axes>"
      ]
     },
     "metadata": {
      "needs_background": "light"
     },
     "output_type": "display_data"
    },
    {
     "data": {
      "text/plain": [
       "<Figure size 720x432 with 0 Axes>"
      ]
     },
     "metadata": {},
     "output_type": "display_data"
    }
   ],
   "source": [
    "ax= plt.subplot()\n",
    "cm= confusion_matrix(y_test, y_pred)\n",
    "print(cm)\n",
    "sns.heatmap(cm, annot= True, ax= ax);\n",
    "\n",
    "plt.figure(figsize=(10,6))\n",
    "ax.set_xlabel(\"predicted\"); ax.set_ylabel(\"actual\");\n",
    "ax.set_title(\"Random Forest Confusion Matrix\");"
   ]
  },
  {
   "cell_type": "markdown",
   "metadata": {},
   "source": [
    "## XG Boost With Repeated Stratefied K Fold Validation"
   ]
  },
  {
   "cell_type": "code",
   "execution_count": 48,
   "metadata": {},
   "outputs": [
    {
     "name": "stdout",
     "output_type": "stream",
     "text": [
      "0.9409827065605271\n",
      "0.9248094005735469\n",
      "0.9153177795203303\n"
     ]
    }
   ],
   "source": [
    "from xgboost import XGBClassifier\n",
    "from sklearn.model_selection import cross_val_score\n",
    "from sklearn.model_selection import RepeatedStratifiedKFold\n",
    "from numpy import mean\n",
    "from numpy import std\n",
    "model = XGBClassifier(max_depth=3,eta=0.1, n_estimators=150)\n",
    "#cv = RepeatedStratifiedKFold(n_splits=10, n_repeats=3, random_state=1)\n",
    "X= granted_transformed\n",
    "y= granted[['loan_repaid']]\n",
    "#n_scores = cross_val_score(model, X, y, scoring='accuracy', cv=cv, n_jobs=-1, error_score='raise')\n",
    "#print('Accuracy: %.3f (%.3f)' % (mean(n_scores), std(n_scores)))\n",
    "model.fit(X_train, y_train.values.ravel())\n",
    "y_pred=model.predict(X_test)\n",
    "print(f1_score(y_pred, y_test))\n",
    "print(accuracy_score(y_pred,y_test))\n",
    "print(roc_auc_score(y_pred,y_test))\n"
   ]
  },
  {
   "cell_type": "code",
   "execution_count": 49,
   "metadata": {},
   "outputs": [
    {
     "name": "stdout",
     "output_type": "stream",
     "text": [
      "[[4652  433]\n",
      " [ 642 8570]]\n"
     ]
    },
    {
     "data": {
      "image/png": "[encoded data removed]",
      "text/plain": [
       "<Figure size 432x288 with 2 Axes>"
      ]
     },
     "metadata": {
      "needs_background": "light"
     },
     "output_type": "display_data"
    },
    {
     "data": {
      "text/plain": [
       "<Figure size 720x432 with 0 Axes>"
      ]
     },
     "metadata": {},
     "output_type": "display_data"
    }
   ],
   "source": [
    "ax= plt.subplot()\n",
    "cm= confusion_matrix(y_test, y_pred)\n",
    "print(cm)\n",
    "sns.heatmap(cm, annot= True, ax= ax);\n",
    "\n",
    "plt.figure(figsize=(10,6))\n",
    "ax.set_xlabel(\"predicted\"); ax.set_ylabel(\"actual\");\n",
    "ax.set_title(\"Random Forest Confusion Matrix\");"
   ]
  },
  {
   "cell_type": "markdown",
   "metadata": {},
   "source": [
    "<b> The XG Boost model shows an F1 Score of 94%, Accuracy Score of 92.5% and ROC Score of 91.5%. But the number of Defaulters have been reduced to `429` from earlier `657`. Thus improving profitability further. "
   ]
  },
  {
   "cell_type": "markdown",
   "metadata": {},
   "source": [
    "<b> Extending the same model to Not Granted Applicants</b>"
   ]
  },
  {
   "cell_type": "code",
   "execution_count": 50,
   "metadata": {},
   "outputs": [],
   "source": [
    "not_granted_transformed = col_trans.fit_transform(not_granted)\n",
    "\n",
    "X= not_granted_transformed\n"
   ]
  },
  {
   "cell_type": "code",
   "execution_count": 51,
   "metadata": {},
   "outputs": [],
   "source": [
    "Y= gbr.predict(X)"
   ]
  },
  {
   "cell_type": "code",
   "execution_count": 52,
   "metadata": {},
   "outputs": [
    {
     "data": {
      "image/png": "[encoded data removed]",
      "text/plain": [
       "<Figure size 432x288 with 1 Axes>"
      ]
     },
     "metadata": {
      "needs_background": "light"
     },
     "output_type": "display_data"
    }
   ],
   "source": [
    "ax = sns.countplot(y=Y)\n",
    "plt.title('Distribution of  Loan Grants by Bank')\n",
    "plt.xlabel('Number of.')\n",
    "\n",
    "total = len(final)\n",
    "for p in ax.patches:\n",
    "        percentage = '{:.1f}%'.format(100 * p.get_width()/total)\n",
    "        x = p.get_x() + p.get_width() + 0.02\n",
    "        y = p.get_y() + p.get_height()/2\n",
    "        ax.annotate(percentage, (x, y))\n",
    "\n",
    "plt.show()"
   ]
  },
  {
   "cell_type": "markdown",
   "metadata": {},
   "source": [
    "<b> We found that out of the 51% people not granted loan by the bank 19.2% wouldd have actually reapid loan. </b>"
   ]
  },
  {
   "cell_type": "markdown",
   "metadata": {},
   "source": [
    "# Our Model Profitability and Comparision"
   ]
  },
  {
   "cell_type": "code",
   "execution_count": 53,
   "metadata": {},
   "outputs": [
    {
     "data": {
      "image/png": "[encoded data removed]",
      "text/plain": [
       "<Figure size 432x288 with 1 Axes>"
      ]
     },
     "metadata": {
      "needs_background": "light"
     },
     "output_type": "display_data"
    }
   ],
   "source": [
    "final_transformed = col_trans.fit_transform(final)\n",
    "\n",
    "X= final_transformed\n",
    "Y= gbr.predict(X)\n",
    "ax = sns.countplot(y=Y)\n",
    "plt.title('Distribution of  Loan Grants by Bank')\n",
    "plt.xlabel('Number of.')\n",
    "\n",
    "total = len(final)\n",
    "for p in ax.patches:\n",
    "        percentage = '{:.1f}%'.format(100 * p.get_width()/total)\n",
    "        x = p.get_x() + p.get_width() + 0.02\n",
    "        y = p.get_y() + p.get_height()/2\n",
    "        ax.annotate(percentage, (x, y))\n",
    "\n",
    "plt.show()"
   ]
  },
  {
   "cell_type": "markdown",
   "metadata": {},
   "source": [
    "<b>Loan Granted to 47.7% of total applicants </b>"
   ]
  },
  {
   "cell_type": "code",
   "execution_count": 54,
   "metadata": {},
   "outputs": [
    {
     "data": {
      "text/plain": [
       "48224.7"
      ]
     },
     "execution_count": 54,
     "metadata": {},
     "output_type": "execute_result"
    }
   ],
   "source": [
    "len(final)*.477"
   ]
  },
  {
   "cell_type": "markdown",
   "metadata": {},
   "source": [
    "<b> The accuracy of the model is ROC Accuracy = 92.5%. So Multiplying the above granted number by accuracy will give the defaulters rate </b>"
   ]
  },
  {
   "cell_type": "code",
   "execution_count": 55,
   "metadata": {},
   "outputs": [
    {
     "data": {
      "text/plain": [
       "3616.7999999999997"
      ]
     },
     "execution_count": 55,
     "metadata": {},
     "output_type": "execute_result"
    }
   ],
   "source": [
    "48224*.075"
   ]
  },
  {
   "cell_type": "code",
   "execution_count": 56,
   "metadata": {},
   "outputs": [
    {
     "data": {
      "text/plain": [
       "44607"
      ]
     },
     "execution_count": 56,
     "metadata": {},
     "output_type": "execute_result"
    }
   ],
   "source": [
    "profit=(48224-3617)\n",
    "profit"
   ]
  },
  {
   "cell_type": "markdown",
   "metadata": {},
   "source": [
    "<b> Company made a profit of 44,607 </b>\n",
    "\n",
    "<b> Comparing with bank models profit </b>"
   ]
  },
  {
   "cell_type": "code",
   "execution_count": 57,
   "metadata": {},
   "outputs": [
    {
     "data": {
      "text/plain": [
       "224.22590492804187"
      ]
     },
     "execution_count": 57,
     "metadata": {},
     "output_type": "execute_result"
    }
   ],
   "source": [
    "((profit-13758)/13758)*100"
   ]
  },
  {
   "cell_type": "markdown",
   "metadata": {},
   "source": [
    "# Our Model made 224% increase in the profit "
   ]
  }
 ],
 "metadata": {
  "kernelspec": {
   "display_name": "Python 3",
   "language": "python",
   "name": "python3"
  },
  "language_info": {
   "codemirror_mode": {
    "name": "ipython",
    "version": 3
   },
   "file_extension": ".py",
   "mimetype": "text/x-python",
   "name": "python",
   "nbconvert_exporter": "python",
   "pygments_lexer": "ipython3",
   "version": "3.8.2"
  }
 },
 "nbformat": 4,
 "nbformat_minor": 4
}
